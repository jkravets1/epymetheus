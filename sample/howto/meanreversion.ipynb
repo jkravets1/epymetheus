{
 "cells": [
  {
   "cell_type": "code",
   "execution_count": 9,
   "metadata": {},
   "outputs": [],
   "source": [
    "from epymetheus import Trade, TradeHistory, TradeStrategy, Universe, Transaction, Backtester\n",
    "import pandas as pd\n",
    "import matplotlib.pyplot as plt\n",
    "import numpy as np\n",
    "import datetime\n",
    "import pathlib\n",
    "from dateutil.relativedelta import relativedelta\n",
    "from pandas.plotting import register_matplotlib_converters\n",
    "register_matplotlib_converters()"
   ]
  },
  {
   "cell_type": "code",
   "execution_count": 10,
   "metadata": {},
   "outputs": [],
   "source": [
    "class SimpleMeanReversion(TradeStrategy):\n",
    "    \"\"\"\n",
    "    A simple Mean Reversion strategy that buys stocks for a month with\n",
    "    the lowest percentile one month returns and sells the highest percentile returns.\n",
    "\n",
    "    Parameters\n",
    "    ----------\n",
    "    - percentile : float\n",
    "        The threshold to buy or sell.\n",
    "        E.g. If 0.1, buy/sell stocks with returns of lowest/highest 10%.\n",
    "    \"\"\"\n",
    "\n",
    "    def logic(self, universe, percentile):\n",
    "\n",
    "        train_period = relativedelta(months=1)\n",
    "        trade_period = relativedelta(months=1)\n",
    "\n",
    "        def trade_bds(universe, train_period, trade_period):\n",
    "            \"\"\"Yield begin dates of trade periods.\"\"\"\n",
    "            d = universe.begin_date + train_period\n",
    "            while d + trade_period <= universe.end_date:\n",
    "                yield d\n",
    "                d += trade_period\n",
    "\n",
    "        def tot_return(asset, begin_date, end_date):\n",
    "            \"\"\"Return total return of asset from begin_date to end_date.\"\"\"\n",
    "            b, e = universe.data.at[begin_date, asset], universe.data.at[end_date, asset]\n",
    "            return e / b - 1\n",
    "\n",
    "        num_buysell = int(len(universe.data.columns) * percentile)\n",
    "\n",
    "        for trade_bd in trade_bds(universe, train_period, trade_period):\n",
    "            train_bd = trade_bd - train_period\n",
    "            trade_ed = trade_bd + trade_period - relativedelta(days=1)\n",
    "            train_ed = train_bd + train_period - relativedelta(days=1)\n",
    "\n",
    "            key = lambda asset: tot_return(asset, train_bd, train_ed)\n",
    "            buy = sorted(universe.data.columns, key=key)[:num_buysell]\n",
    "            sell = sorted(universe.data.columns, key=key)[-num_buysell:]\n",
    "            \n",
    "            for asset in buy:\n",
    "                yield Trade(asset=asset, lot=1, begin_date=trade_bd, end_date=trade_ed)\n",
    "            for asset in sell:\n",
    "                yield Trade(asset=asset, lot=-1, begin_date=trade_bd, end_date=trade_ed)"
   ]
  },
  {
   "cell_type": "code",
   "execution_count": 11,
   "metadata": {},
   "outputs": [],
   "source": [
    "csvs = pathlib.Path('../data/JP Equity').glob('*.csv')\n",
    "\n",
    "universe = Universe.read_csvs(name='JP Equity',\n",
    "                              csvs=csvs, index_col=0, parse_dates=True,\n",
    "                              begin_date=datetime.date(2000, 1, 1), \n",
    "                              end_date=datetime.date(2000, 12, 31))\n",
    "# print(universe.name)\n",
    "# universe.data.head()"
   ]
  },
  {
   "cell_type": "code",
   "execution_count": 12,
   "metadata": {},
   "outputs": [],
   "source": [
    "strategy = SimpleMeanReversion(percentile=0.1)"
   ]
  },
  {
   "cell_type": "code",
   "execution_count": 13,
   "metadata": {},
   "outputs": [
    {
     "name": "stdout",
     "output_type": "stream",
     "text": [
      "Generating trades ...\n",
      "Evaluating wealth ...\n",
      "Done.\n",
      "Runtime : 0.3sec\n"
     ]
    },
    {
     "data": {
      "text/plain": [
       "<epymetheus.backtester.Backtester at 0x11071dc10>"
      ]
     },
     "execution_count": 13,
     "metadata": {},
     "output_type": "execute_result"
    }
   ],
   "source": [
    "backtester = Backtester()\n",
    "\n",
    "backtester.run(strategy, universe, verbose=True)"
   ]
  },
  {
   "cell_type": "code",
   "execution_count": 14,
   "metadata": {},
   "outputs": [
    {
     "data": {
      "text/plain": [
       "2000-01-01       0.0\n",
       "2000-01-02       0.0\n",
       "2000-01-03       0.0\n",
       "2000-01-04       0.0\n",
       "2000-01-05       0.0\n",
       "               ...  \n",
       "2000-12-27   -1398.0\n",
       "2000-12-28   -1398.0\n",
       "2000-12-29   -1398.0\n",
       "2000-12-30   -1398.0\n",
       "2000-12-31   -1398.0\n",
       "Length: 366, dtype: float64"
      ]
     },
     "execution_count": 14,
     "metadata": {},
     "output_type": "execute_result"
    }
   ],
   "source": [
    "backtester.wealth_.data"
   ]
  },
  {
   "cell_type": "code",
   "execution_count": null,
   "metadata": {},
   "outputs": [],
   "source": []
  }
 ],
 "metadata": {
  "kernelspec": {
   "display_name": "Python 3",
   "language": "python",
   "name": "python3"
  },
  "language_info": {
   "codemirror_mode": {
    "name": "ipython",
    "version": 3
   },
   "file_extension": ".py",
   "mimetype": "text/x-python",
   "name": "python",
   "nbconvert_exporter": "python",
   "pygments_lexer": "ipython3",
   "version": "3.7.5"
  }
 },
 "nbformat": 4,
 "nbformat_minor": 4
}
