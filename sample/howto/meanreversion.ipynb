{
 "cells": [
  {
   "cell_type": "code",
   "execution_count": 10,
   "metadata": {
    "Collapsed": "false"
   },
   "outputs": [],
   "source": [
    "import pandas as pd\n",
    "import matplotlib.pyplot as plt\n",
    "import numpy as np\n",
    "import datetime\n",
    "import pathlib\n",
    "from dateutil.relativedelta import relativedelta\n",
    "from pandas.plotting import register_matplotlib_converters\n",
    "register_matplotlib_converters()\n",
    "\n",
    "from epymetheus import (\n",
    "    Trade, \n",
    "    TradeHistory,\n",
    "    TradeStrategy, \n",
    "    Universe,\n",
    "    Backtester,\n",
    ")\n",
    "\n",
    "import seaborn\n",
    "seaborn.set_style('ticks')"
   ]
  },
  {
   "cell_type": "code",
   "execution_count": 2,
   "metadata": {
    "Collapsed": "false"
   },
   "outputs": [
    {
     "data": {
      "text/html": [
       "<div>\n",
       "<style scoped>\n",
       "    .dataframe tbody tr th:only-of-type {\n",
       "        vertical-align: middle;\n",
       "    }\n",
       "\n",
       "    .dataframe tbody tr th {\n",
       "        vertical-align: top;\n",
       "    }\n",
       "\n",
       "    .dataframe thead th {\n",
       "        text-align: right;\n",
       "    }\n",
       "</style>\n",
       "<table border=\"1\" class=\"dataframe\">\n",
       "  <thead>\n",
       "    <tr style=\"text-align: right;\">\n",
       "      <th></th>\n",
       "      <th>8802</th>\n",
       "      <th>7267</th>\n",
       "      <th>2914</th>\n",
       "      <th>8031</th>\n",
       "      <th>6752</th>\n",
       "      <th>4452</th>\n",
       "      <th>9984</th>\n",
       "      <th>7203</th>\n",
       "      <th>6861</th>\n",
       "      <th>6501</th>\n",
       "    </tr>\n",
       "    <tr>\n",
       "      <th>Date</th>\n",
       "      <th></th>\n",
       "      <th></th>\n",
       "      <th></th>\n",
       "      <th></th>\n",
       "      <th></th>\n",
       "      <th></th>\n",
       "      <th></th>\n",
       "      <th></th>\n",
       "      <th></th>\n",
       "      <th></th>\n",
       "    </tr>\n",
       "  </thead>\n",
       "  <tbody>\n",
       "    <tr>\n",
       "      <th>2000-01-01</th>\n",
       "      <td>1075.5</td>\n",
       "      <td>2092.8</td>\n",
       "      <td>815.3</td>\n",
       "      <td>802.7</td>\n",
       "      <td>3097.0</td>\n",
       "      <td>3222.8</td>\n",
       "      <td>5485.3</td>\n",
       "      <td>5565.2</td>\n",
       "      <td>13049.3</td>\n",
       "      <td>9613.4</td>\n",
       "    </tr>\n",
       "    <tr>\n",
       "      <th>2000-01-02</th>\n",
       "      <td>1075.5</td>\n",
       "      <td>2092.8</td>\n",
       "      <td>815.3</td>\n",
       "      <td>802.7</td>\n",
       "      <td>3097.0</td>\n",
       "      <td>3222.8</td>\n",
       "      <td>5485.3</td>\n",
       "      <td>5565.2</td>\n",
       "      <td>13049.3</td>\n",
       "      <td>9613.4</td>\n",
       "    </tr>\n",
       "    <tr>\n",
       "      <th>2000-01-03</th>\n",
       "      <td>1075.5</td>\n",
       "      <td>2092.8</td>\n",
       "      <td>815.3</td>\n",
       "      <td>802.7</td>\n",
       "      <td>3097.0</td>\n",
       "      <td>3222.8</td>\n",
       "      <td>5485.3</td>\n",
       "      <td>5565.2</td>\n",
       "      <td>13049.3</td>\n",
       "      <td>9613.4</td>\n",
       "    </tr>\n",
       "    <tr>\n",
       "      <th>2000-01-04</th>\n",
       "      <td>1094.9</td>\n",
       "      <td>2109.3</td>\n",
       "      <td>784.0</td>\n",
       "      <td>822.9</td>\n",
       "      <td>3179.1</td>\n",
       "      <td>3167.5</td>\n",
       "      <td>5776.9</td>\n",
       "      <td>5554.0</td>\n",
       "      <td>12137.4</td>\n",
       "      <td>9906.5</td>\n",
       "    </tr>\n",
       "    <tr>\n",
       "      <th>2000-01-05</th>\n",
       "      <td>1031.3</td>\n",
       "      <td>2076.3</td>\n",
       "      <td>785.0</td>\n",
       "      <td>864.5</td>\n",
       "      <td>3031.3</td>\n",
       "      <td>3062.5</td>\n",
       "      <td>4857.1</td>\n",
       "      <td>5497.8</td>\n",
       "      <td>11194.1</td>\n",
       "      <td>9232.4</td>\n",
       "    </tr>\n",
       "    <tr>\n",
       "      <th>...</th>\n",
       "      <td>...</td>\n",
       "      <td>...</td>\n",
       "      <td>...</td>\n",
       "      <td>...</td>\n",
       "      <td>...</td>\n",
       "      <td>...</td>\n",
       "      <td>...</td>\n",
       "      <td>...</td>\n",
       "      <td>...</td>\n",
       "      <td>...</td>\n",
       "    </tr>\n",
       "    <tr>\n",
       "      <th>2002-12-27</th>\n",
       "      <td>982.6</td>\n",
       "      <td>2482.6</td>\n",
       "      <td>855.4</td>\n",
       "      <td>645.0</td>\n",
       "      <td>1308.9</td>\n",
       "      <td>2961.8</td>\n",
       "      <td>232.6</td>\n",
       "      <td>3642.1</td>\n",
       "      <td>7227.5</td>\n",
       "      <td>2799.7</td>\n",
       "    </tr>\n",
       "    <tr>\n",
       "      <th>2002-12-28</th>\n",
       "      <td>982.6</td>\n",
       "      <td>2482.6</td>\n",
       "      <td>855.4</td>\n",
       "      <td>645.0</td>\n",
       "      <td>1308.9</td>\n",
       "      <td>2961.8</td>\n",
       "      <td>232.6</td>\n",
       "      <td>3642.1</td>\n",
       "      <td>7227.5</td>\n",
       "      <td>2799.7</td>\n",
       "    </tr>\n",
       "    <tr>\n",
       "      <th>2002-12-29</th>\n",
       "      <td>982.6</td>\n",
       "      <td>2482.6</td>\n",
       "      <td>855.4</td>\n",
       "      <td>645.0</td>\n",
       "      <td>1308.9</td>\n",
       "      <td>2961.8</td>\n",
       "      <td>232.6</td>\n",
       "      <td>3642.1</td>\n",
       "      <td>7227.5</td>\n",
       "      <td>2799.7</td>\n",
       "    </tr>\n",
       "    <tr>\n",
       "      <th>2002-12-30</th>\n",
       "      <td>998.0</td>\n",
       "      <td>2460.2</td>\n",
       "      <td>853.3</td>\n",
       "      <td>643.9</td>\n",
       "      <td>1304.4</td>\n",
       "      <td>2956.2</td>\n",
       "      <td>229.0</td>\n",
       "      <td>3665.1</td>\n",
       "      <td>7161.6</td>\n",
       "      <td>2722.0</td>\n",
       "    </tr>\n",
       "    <tr>\n",
       "      <th>2002-12-31</th>\n",
       "      <td>998.0</td>\n",
       "      <td>2460.2</td>\n",
       "      <td>853.3</td>\n",
       "      <td>643.9</td>\n",
       "      <td>1304.4</td>\n",
       "      <td>2956.2</td>\n",
       "      <td>229.0</td>\n",
       "      <td>3665.1</td>\n",
       "      <td>7161.6</td>\n",
       "      <td>2722.0</td>\n",
       "    </tr>\n",
       "  </tbody>\n",
       "</table>\n",
       "<p>1096 rows × 10 columns</p>\n",
       "</div>"
      ],
      "text/plain": [
       "              8802    7267   2914   8031    6752    4452    9984    7203  \\\n",
       "Date                                                                       \n",
       "2000-01-01  1075.5  2092.8  815.3  802.7  3097.0  3222.8  5485.3  5565.2   \n",
       "2000-01-02  1075.5  2092.8  815.3  802.7  3097.0  3222.8  5485.3  5565.2   \n",
       "2000-01-03  1075.5  2092.8  815.3  802.7  3097.0  3222.8  5485.3  5565.2   \n",
       "2000-01-04  1094.9  2109.3  784.0  822.9  3179.1  3167.5  5776.9  5554.0   \n",
       "2000-01-05  1031.3  2076.3  785.0  864.5  3031.3  3062.5  4857.1  5497.8   \n",
       "...            ...     ...    ...    ...     ...     ...     ...     ...   \n",
       "2002-12-27   982.6  2482.6  855.4  645.0  1308.9  2961.8   232.6  3642.1   \n",
       "2002-12-28   982.6  2482.6  855.4  645.0  1308.9  2961.8   232.6  3642.1   \n",
       "2002-12-29   982.6  2482.6  855.4  645.0  1308.9  2961.8   232.6  3642.1   \n",
       "2002-12-30   998.0  2460.2  853.3  643.9  1304.4  2956.2   229.0  3665.1   \n",
       "2002-12-31   998.0  2460.2  853.3  643.9  1304.4  2956.2   229.0  3665.1   \n",
       "\n",
       "               6861    6501  \n",
       "Date                         \n",
       "2000-01-01  13049.3  9613.4  \n",
       "2000-01-02  13049.3  9613.4  \n",
       "2000-01-03  13049.3  9613.4  \n",
       "2000-01-04  12137.4  9906.5  \n",
       "2000-01-05  11194.1  9232.4  \n",
       "...             ...     ...  \n",
       "2002-12-27   7227.5  2799.7  \n",
       "2002-12-28   7227.5  2799.7  \n",
       "2002-12-29   7227.5  2799.7  \n",
       "2002-12-30   7161.6  2722.0  \n",
       "2002-12-31   7161.6  2722.0  \n",
       "\n",
       "[1096 rows x 10 columns]"
      ]
     },
     "execution_count": 2,
     "metadata": {},
     "output_type": "execute_result"
    }
   ],
   "source": [
    "csvs = pathlib.Path('../data/JP Equity').glob('*.csv')\n",
    "csvs = list(csvs)[:10]\n",
    "\n",
    "df = pd.concat([\n",
    "    pd.read_csv(csv, index_col=0, parse_dates=True) for csv in csvs\n",
    "], axis=1)\n",
    "df = df.loc[datetime.date(2000, 1, 1): datetime.date(2002, 12, 31), :]\n",
    "df = df.dropna(axis=1, how='any')\n",
    "\n",
    "universe = Universe(df, name='JP Equity')\n",
    "\n",
    "universe.data"
   ]
  },
  {
   "cell_type": "code",
   "execution_count": 3,
   "metadata": {
    "Collapsed": "false"
   },
   "outputs": [],
   "source": [
    "class SimpleMeanReversion(TradeStrategy):\n",
    "    \"\"\"\n",
    "    A simple Mean Reversion strategy that buys stocks for a month with\n",
    "    the lowest percentile one month returns and sells the highest percentile returns.\n",
    "\n",
    "    Parameters\n",
    "    ----------\n",
    "    - percentile : float\n",
    "        The threshold to buy or sell.\n",
    "        E.g. If 0.1, buy/sell stocks with returns of lowest/highest 10%.\n",
    "    \"\"\"\n",
    "    # XXX changed to trend follow\n",
    "\n",
    "    def logic(self, universe, percentile):\n",
    "\n",
    "        train_period = relativedelta(months=1)\n",
    "        trade_period = relativedelta(months=1)\n",
    "\n",
    "        def trade_bds(universe, train_period, trade_period):\n",
    "            \"\"\"Yield begin dates of trade periods.\"\"\"\n",
    "            d = universe.bars[0] + train_period\n",
    "            while d + trade_period <= universe.bars[-1]:\n",
    "                yield d\n",
    "                d += trade_period\n",
    "\n",
    "        def tot_return(asset, begin_date, end_date):\n",
    "            \"\"\"Return total return of asset from begin_date to end_date.\"\"\"\n",
    "            u = universe.data\n",
    "            b, e = u.at[begin_date, asset], u.at[end_date, asset]\n",
    "            return e / b - 1\n",
    "\n",
    "        num_buysell = int(universe.n_assets * percentile)\n",
    "\n",
    "        for trade_bd in trade_bds(universe, train_period, trade_period):\n",
    "            train_bd = trade_bd - train_period\n",
    "            trade_ed = trade_bd + trade_period - relativedelta(days=1)\n",
    "            train_ed = train_bd + train_period - relativedelta(days=1)\n",
    "\n",
    "            key = lambda asset: tot_return(asset, train_bd, train_ed)\n",
    "            sell = sorted(universe.assets, key=key)[:num_buysell]\n",
    "            buy = sorted(universe.assets, key=key)[-num_buysell:]\n",
    "            \n",
    "            for asset in sell:\n",
    "                lot = 1.0 / universe.data.at[trade_bd, asset]\n",
    "                yield Trade(asset=asset, lot=lot, open_date=trade_bd, close_date=trade_ed)\n",
    "            \n",
    "            for asset in buy:\n",
    "                lot = -1.0 / universe.data.at[trade_bd, asset]\n",
    "                yield Trade(asset=asset, lot=lot, open_date=trade_bd, close_date=trade_ed)"
   ]
  },
  {
   "cell_type": "code",
   "execution_count": 4,
   "metadata": {
    "Collapsed": "false"
   },
   "outputs": [],
   "source": [
    "strategy = SimpleMeanReversion(percentile=0.1)"
   ]
  },
  {
   "cell_type": "code",
   "execution_count": 5,
   "metadata": {
    "Collapsed": "false"
   },
   "outputs": [],
   "source": [
    "backtester = Backtester()"
   ]
  },
  {
   "cell_type": "code",
   "execution_count": 6,
   "metadata": {
    "Collapsed": "false"
   },
   "outputs": [
    {
     "name": "stdout",
     "output_type": "stream",
     "text": [
      "Evaluating wealth ...\n",
      "Done.\n",
      "Runtime : 0.1sec\n"
     ]
    },
    {
     "data": {
      "text/plain": [
       "<epymetheus.backtester.Backtester at 0x11d702ad0>"
      ]
     },
     "execution_count": 6,
     "metadata": {},
     "output_type": "execute_result"
    }
   ],
   "source": [
    "backtester.run(strategy, universe, verbose=True)"
   ]
  },
  {
   "cell_type": "code",
   "execution_count": 7,
   "metadata": {
    "Collapsed": "false"
   },
   "outputs": [
    {
     "data": {
      "text/plain": [
       "<epymetheus.wealth.Wealth at 0x108a38d50>"
      ]
     },
     "execution_count": 7,
     "metadata": {},
     "output_type": "execute_result"
    }
   ],
   "source": [
    "wealth = backtester.wealth_\n",
    "\n",
    "wealth"
   ]
  },
  {
   "cell_type": "code",
   "execution_count": 8,
   "metadata": {
    "Collapsed": "false"
   },
   "outputs": [
    {
     "data": {
      "text/plain": [
       "<matplotlib.axes._subplots.AxesSubplot at 0x11d702b90>"
      ]
     },
     "execution_count": 8,
     "metadata": {},
     "output_type": "execute_result"
    },
    {
     "data": {
      "image/png": "[encoded data removed]",
      "text/plain": [
       "<Figure size 432x288 with 1 Axes>"
      ]
     },
     "metadata": {},
     "output_type": "display_data"
    }
   ],
   "source": [
    "transaction = backtester.transaction_\n",
    "\n",
    "transaction.to_frame().cumsum().sum(axis=1).plot()"
   ]
  },
  {
   "cell_type": "code",
   "execution_count": null,
   "metadata": {
    "Collapsed": "false"
   },
   "outputs": [],
   "source": []
  }
 ],
 "metadata": {
  "kernelspec": {
   "display_name": "Python 3",
   "language": "python",
   "name": "python3"
  },
  "language_info": {
   "codemirror_mode": {
    "name": "ipython",
    "version": 3
   },
   "file_extension": ".py",
   "mimetype": "text/x-python",
   "name": "python",
   "nbconvert_exporter": "python",
   "pygments_lexer": "ipython3",
   "version": "3.7.6"
  }
 },
 "nbformat": 4,
 "nbformat_minor": 4
}
