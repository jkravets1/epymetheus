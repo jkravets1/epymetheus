{
 "cells": [
  {
   "cell_type": "code",
   "execution_count": 1,
   "metadata": {
    "Collapsed": "false"
   },
   "outputs": [],
   "source": [
    "from epymetheus import Trade, TradeHistory, TradeStrategy, Universe, Transaction, Backtester\n",
    "import pandas as pd\n",
    "import matplotlib.pyplot as plt\n",
    "import numpy as np\n",
    "import datetime"
   ]
  },
  {
   "cell_type": "code",
   "execution_count": 2,
   "metadata": {
    "Collapsed": "false"
   },
   "outputs": [
    {
     "data": {
      "text/html": [
       "<div>\n",
       "<style scoped>\n",
       "    .dataframe tbody tr th:only-of-type {\n",
       "        vertical-align: middle;\n",
       "    }\n",
       "\n",
       "    .dataframe tbody tr th {\n",
       "        vertical-align: top;\n",
       "    }\n",
       "\n",
       "    .dataframe thead th {\n",
       "        text-align: right;\n",
       "    }\n",
       "</style>\n",
       "<table border=\"1\" class=\"dataframe\">\n",
       "  <thead>\n",
       "    <tr style=\"text-align: right;\">\n",
       "      <th></th>\n",
       "      <th>AAPL</th>\n",
       "      <th>MSFT</th>\n",
       "    </tr>\n",
       "  </thead>\n",
       "  <tbody>\n",
       "    <tr>\n",
       "      <th>2000-01-01</th>\n",
       "      <td>-1.453213</td>\n",
       "      <td>0.567141</td>\n",
       "    </tr>\n",
       "    <tr>\n",
       "      <th>2000-01-02</th>\n",
       "      <td>-1.643470</td>\n",
       "      <td>1.291898</td>\n",
       "    </tr>\n",
       "    <tr>\n",
       "      <th>2000-01-03</th>\n",
       "      <td>-2.285872</td>\n",
       "      <td>1.898612</td>\n",
       "    </tr>\n",
       "    <tr>\n",
       "      <th>2000-01-04</th>\n",
       "      <td>-3.918908</td>\n",
       "      <td>2.922901</td>\n",
       "    </tr>\n",
       "    <tr>\n",
       "      <th>2000-01-05</th>\n",
       "      <td>-3.832863</td>\n",
       "      <td>2.838834</td>\n",
       "    </tr>\n",
       "  </tbody>\n",
       "</table>\n",
       "</div>"
      ],
      "text/plain": [
       "                AAPL      MSFT\n",
       "2000-01-01 -1.453213  0.567141\n",
       "2000-01-02 -1.643470  1.291898\n",
       "2000-01-03 -2.285872  1.898612\n",
       "2000-01-04 -3.918908  2.922901\n",
       "2000-01-05 -3.832863  2.838834"
      ]
     },
     "execution_count": 2,
     "metadata": {},
     "output_type": "execute_result"
    }
   ],
   "source": [
    "date_range = pd.date_range(datetime.date(2000, 1, 1), datetime.date(2000, 12, 31))\n",
    "\n",
    "prices = np.random.randn(2, len(date_range)).cumsum(axis=1).T\n",
    "universe = Universe(\n",
    "    name='stocks',\n",
    "    data=pd.DataFrame(prices, index=date_range, columns=['AAPL', 'MSFT'])\n",
    ")\n",
    "universe.data.head()"
   ]
  },
  {
   "cell_type": "code",
   "execution_count": 3,
   "metadata": {
    "Collapsed": "false"
   },
   "outputs": [],
   "source": [
    "class MyStrategy(TradeStrategy):\n",
    "    \n",
    "    def logic(self, universe):\n",
    "        t1 = Trade(asset='AAPL', lot=100.0, begin_date=datetime.date(2000, 1, 10), end_date=datetime.date(2000, 2, 10))\n",
    "        t2 = Trade(asset='MSFT', lot=-50.0, begin_date=datetime.date(2000, 1, 15), end_date=datetime.date(2000, 3, 15))\n",
    "        \n",
    "        trades = [t1, t2]\n",
    "        return trades"
   ]
  },
  {
   "cell_type": "code",
   "execution_count": 4,
   "metadata": {
    "Collapsed": "false"
   },
   "outputs": [],
   "source": [
    "backtester = Backtester()\n",
    "strategy = MyStrategy()"
   ]
  },
  {
   "cell_type": "code",
   "execution_count": 5,
   "metadata": {
    "Collapsed": "false"
   },
   "outputs": [
    {
     "data": {
      "text/plain": [
       "<epymetheus.backtester.Backtester at 0x10eab8c50>"
      ]
     },
     "execution_count": 5,
     "metadata": {},
     "output_type": "execute_result"
    }
   ],
   "source": [
    "backtester"
   ]
  },
  {
   "cell_type": "code",
   "execution_count": 9,
   "metadata": {
    "Collapsed": "false"
   },
   "outputs": [
    {
     "data": {
      "text/html": [
       "<div>\n",
       "<style scoped>\n",
       "    .dataframe tbody tr th:only-of-type {\n",
       "        vertical-align: middle;\n",
       "    }\n",
       "\n",
       "    .dataframe tbody tr th {\n",
       "        vertical-align: top;\n",
       "    }\n",
       "\n",
       "    .dataframe thead th {\n",
       "        text-align: right;\n",
       "    }\n",
       "</style>\n",
       "<table border=\"1\" class=\"dataframe\">\n",
       "  <thead>\n",
       "    <tr style=\"text-align: right;\">\n",
       "      <th></th>\n",
       "      <th>asset</th>\n",
       "      <th>lot</th>\n",
       "      <th>begin_date</th>\n",
       "      <th>end_date</th>\n",
       "      <th>duration</th>\n",
       "      <th>gain</th>\n",
       "    </tr>\n",
       "  </thead>\n",
       "  <tbody>\n",
       "    <tr>\n",
       "      <th>0</th>\n",
       "      <td>AAPL</td>\n",
       "      <td>100.0</td>\n",
       "      <td>2000-01-10</td>\n",
       "      <td>2000-02-10</td>\n",
       "      <td>31 days</td>\n",
       "      <td>182.922784</td>\n",
       "    </tr>\n",
       "    <tr>\n",
       "      <th>1</th>\n",
       "      <td>MSFT</td>\n",
       "      <td>-50.0</td>\n",
       "      <td>2000-01-15</td>\n",
       "      <td>2000-03-15</td>\n",
       "      <td>60 days</td>\n",
       "      <td>-562.179174</td>\n",
       "    </tr>\n",
       "  </tbody>\n",
       "</table>\n",
       "</div>"
      ],
      "text/plain": [
       "  asset    lot  begin_date    end_date duration        gain\n",
       "0  AAPL  100.0  2000-01-10  2000-02-10  31 days  182.922784\n",
       "1  MSFT  -50.0  2000-01-15  2000-03-15  60 days -562.179174"
      ]
     },
     "execution_count": 9,
     "metadata": {},
     "output_type": "execute_result"
    }
   ],
   "source": [
    "backtester.run(strategy, universe)\n",
    "backtester.history_.data"
   ]
  },
  {
   "cell_type": "code",
   "execution_count": 7,
   "metadata": {
    "Collapsed": "false"
   },
   "outputs": [
    {
     "data": {
      "text/plain": [
       "2000-01-01      0.00000\n",
       "2000-01-02      0.00000\n",
       "2000-01-03      0.00000\n",
       "2000-01-04      0.00000\n",
       "2000-01-05      0.00000\n",
       "                ...    \n",
       "2000-12-27   -143.06379\n",
       "2000-12-28   -143.06379\n",
       "2000-12-29   -143.06379\n",
       "2000-12-30   -143.06379\n",
       "2000-12-31   -143.06379\n",
       "Length: 366, dtype: float64"
      ]
     },
     "execution_count": 7,
     "metadata": {},
     "output_type": "execute_result"
    }
   ],
   "source": [
    "backtester.wealth_.data"
   ]
  },
  {
   "cell_type": "code",
   "execution_count": null,
   "metadata": {
    "Collapsed": "false"
   },
   "outputs": [],
   "source": []
  }
 ],
 "metadata": {
  "kernelspec": {
   "display_name": "Python 3",
   "language": "python",
   "name": "python3"
  },
  "language_info": {
   "codemirror_mode": {
    "name": "ipython",
    "version": 3
   },
   "file_extension": ".py",
   "mimetype": "text/x-python",
   "name": "python",
   "nbconvert_exporter": "python",
   "pygments_lexer": "ipython3",
   "version": "3.7.6"
  }
 },
 "nbformat": 4,
 "nbformat_minor": 4
}
