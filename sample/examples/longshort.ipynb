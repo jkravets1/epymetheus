{
 "cells": [
  {
   "cell_type": "markdown",
   "metadata": {
    "Collapsed": "false"
   },
   "source": [
    "# Long-short strategy\n",
    "\n",
    "Trades with multiple assets"
   ]
  },
  {
   "cell_type": "code",
   "execution_count": null,
   "metadata": {
    "Collapsed": "false"
   },
   "outputs": [],
   "source": [
    "import epymetheus\n",
    "\n",
    "import pandas as pd\n",
    "from pandas_datareader.data import DataReader\n",
    "from pandas.tseries.offsets import DateOffset\n",
    "import matplotlib.pyplot as plt\n",
    "try:\n",
    "    import seaborn\n",
    "    seaborn.set_style('ticks')\n",
    "except ImportError:\n",
    "    pass\n",
    "from pandas.plotting import register_matplotlib_converters\n",
    "register_matplotlib_converters()\n",
    "\n",
    "from epymetheus import Universe, Trade, TradeStrategy"
   ]
  },
  {
   "cell_type": "code",
   "execution_count": 2,
   "metadata": {
    "Collapsed": "false"
   },
   "outputs": [],
   "source": [
    "from epymetheus.datasets import fetch_usstock\n",
    "\n",
    "universe = fetch_usstock()"
   ]
  },
  {
   "cell_type": "code",
   "execution_count": 3,
   "metadata": {
    "Collapsed": "false"
   },
   "outputs": [],
   "source": [
    "from time import sleep\n",
    "\n",
    "class SimpleLongShort(TradeStrategy):\n",
    "    \"\"\"Simple long-short strategy.\"\"\"\n",
    "    \n",
    "    def logic(self, universe, percentile, bet):\n",
    "        watch_period = DateOffset(months=1)\n",
    "        trade_period = DateOffset(months=1)\n",
    "        n_trade = int(universe.n_assets * percentile)\n",
    "\n",
    "        def trade_open_dates(universe, watch_period, trade_period):\n",
    "            \"\"\"Yield begin_date of trades.\"\"\"\n",
    "            open_date = universe.bars[0] + watch_period\n",
    "            while open_date + trade_period <= universe.bars[-1]:\n",
    "                yield open_date\n",
    "                open_date += trade_period\n",
    "\n",
    "        def tot_returns(open_date):\n",
    "            \"\"\"Return 1 month return of assets as Series.\"\"\"\n",
    "            b = open_date - DateOffset(days=1)\n",
    "            e = open_date - DateOffset(months=1)\n",
    "            return universe.prices.loc[e, :] / universe.prices.loc[b, :]\n",
    "\n",
    "        for open_date in trade_open_dates(universe, watch_period, trade_period):\n",
    "            close_date = open_date + trade_period\n",
    "            r = tot_returns(open_date)\n",
    "            assets_sorted = sorted(universe.assets, key=lambda asset: r[asset])\n",
    "\n",
    "            for long, short in zip(assets_sorted[-n_trade:], assets_sorted[:n_trade]):\n",
    "                lot_long = bet / universe.prices.at[open_date, long]\n",
    "                lot_short = -bet / universe.prices.at[open_date, short]\n",
    "                yield Trade(\n",
    "                    asset=[long, short], \n",
    "                    lot=[lot_long, lot_short],\n",
    "                    open_bar=open_date,\n",
    "                    close_bar=close_date\n",
    "                )"
   ]
  },
  {
   "cell_type": "code",
   "execution_count": 4,
   "metadata": {
    "Collapsed": "false"
   },
   "outputs": [],
   "source": [
    "strategy = SimpleLongShort(percentile=0.5, bet=10000)"
   ]
  },
  {
   "cell_type": "code",
   "execution_count": 5,
   "metadata": {
    "Collapsed": "false"
   },
   "outputs": [
    {
     "name": "stdout",
     "output_type": "stream",
     "text": [
      "Running ... \n",
      "Generating 1190 trades ... Done.\n",
      "Evaluating history ... Done. (Runtime : 0.13 sec)\n",
      "Evaluating history ... Done. (Runtime : 3.41 sec)\n",
      "Evaluating wealth ... Done. (Runtime : 3.36 sec)\n",
      "Done. (Runtime : 7.5 sec)\n"
     ]
    },
    {
     "data": {
      "text/plain": [
       "<__main__.SimpleLongShort at 0x1238c0950>"
      ]
     },
     "execution_count": 5,
     "metadata": {},
     "output_type": "execute_result"
    }
   ],
   "source": [
    "strategy.run(universe)"
   ]
  },
  {
   "cell_type": "code",
   "execution_count": null,
   "metadata": {
    "Collapsed": "false"
   },
   "outputs": [],
   "source": [
    "history = pd.DataFrame(strategy.history).set_index('order_index')\n",
    "transaction = pd.DataFrame(strategy.transaction).set_index('bars')\n",
    "wealth = pd.DataFrame(strategy.wealth).set_index('bars')"
   ]
  },
  {
   "cell_type": "code",
   "execution_count": null,
   "metadata": {
    "Collapsed": "false"
   },
   "outputs": [],
   "source": [
    "history"
   ]
  },
  {
   "cell_type": "code",
   "execution_count": null,
   "metadata": {
    "Collapsed": "false"
   },
   "outputs": [],
   "source": [
    "transaction"
   ]
  },
  {
   "cell_type": "code",
   "execution_count": null,
   "metadata": {
    "Collapsed": "false"
   },
   "outputs": [],
   "source": [
    "wealth"
   ]
  },
  {
   "cell_type": "code",
   "execution_count": null,
   "metadata": {
    "Collapsed": "false"
   },
   "outputs": [],
   "source": [
    "plt.figure(figsize=(16, 4))\n",
    "plt.plot(wealth)\n",
    "plt.axhline(0, color='gray', ls='--')\n",
    "plt.title('Wealth / dollars')\n",
    "plt.show()"
   ]
  },
  {
   "cell_type": "code",
   "execution_count": null,
   "metadata": {
    "Collapsed": "false"
   },
   "outputs": [],
   "source": [
    "net_exposure = (transaction.cumsum() * universe.prices).sum(axis=1)\n",
    "abs_exposure = (transaction.cumsum().applymap(abs) * universe.prices).sum(axis=1)\n",
    "\n",
    "plt.figure(figsize=(16, 8))\n",
    "\n",
    "plt.subplot(2, 1, 1)\n",
    "plt.plot(net_exposure)\n",
    "plt.axhline(0, color='gray', ls='--')\n",
    "plt.title('Net exposure / dollars')\n",
    "\n",
    "plt.subplot(2, 1, 2)\n",
    "plt.plot(abs_exposure)\n",
    "plt.axhline(0, color='gray', ls='--')\n",
    "plt.title('Abs exposure / dollars')\n",
    "\n",
    "plt.show()"
   ]
  },
  {
   "cell_type": "code",
   "execution_count": null,
   "metadata": {
    "Collapsed": "false"
   },
   "outputs": [],
   "source": [
    "gains = history.gains\n",
    "gains_agg = history[['trade_index', 'gains']].groupby('trade_index').agg('sum')\n",
    "\n",
    "plt.figure(figsize=(16, 4))\n",
    "\n",
    "plt.subplot(1, 2, 1)\n",
    "plt.hist(gains_agg.values, bins=50)\n",
    "plt.axvline(0, color='red', ls='--')\n",
    "plt.title('Gain of each long-short position')\n",
    "\n",
    "plt.subplot(1, 2, 2)\n",
    "plt.hist(gains, bins=50)\n",
    "plt.axvline(0, color='red', ls='--')\n",
    "plt.title('Gain of each order')\n",
    "\n",
    "plt.show()"
   ]
  },
  {
   "cell_type": "code",
   "execution_count": null,
   "metadata": {
    "Collapsed": "false"
   },
   "outputs": [],
   "source": []
  }
 ],
 "metadata": {
  "kernelspec": {
   "display_name": "Python 3",
   "language": "python",
   "name": "python3"
  },
  "language_info": {
   "codemirror_mode": {
    "name": "ipython",
    "version": 3
   },
   "file_extension": ".py",
   "mimetype": "text/x-python",
   "name": "python",
   "nbconvert_exporter": "python",
   "pygments_lexer": "ipython3",
   "version": "3.7.6"
  }
 },
 "nbformat": 4,
 "nbformat_minor": 4
}
