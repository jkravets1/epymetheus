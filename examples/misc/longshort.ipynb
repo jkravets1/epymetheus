{
 "cells": [
  {
   "cell_type": "markdown",
   "metadata": {
    "Collapsed": "false"
   },
   "source": [
    "# Long-short strategy\n",
    "\n",
    "Trades with multiple assets"
   ]
  },
  {
   "cell_type": "code",
   "execution_count": 1,
   "metadata": {
    "Collapsed": "false"
   },
   "outputs": [
    {
     "name": "stderr",
     "output_type": "stream",
     "text": [
      "/usr/local/lib/python3.8/site-packages/pandas_datareader/compat/__init__.py:7: FutureWarning: pandas.util.testing is deprecated. Use the functions in the public API at pandas.testing instead.\n",
      "  from pandas.util.testing import assert_frame_equal\n"
     ]
    }
   ],
   "source": [
    "import epymetheus\n",
    "\n",
    "import pandas as pd\n",
    "from pandas_datareader.data import DataReader\n",
    "from pandas.tseries.offsets import DateOffset\n",
    "import matplotlib.pyplot as plt\n",
    "try:\n",
    "    import seaborn\n",
    "    seaborn.set_style('ticks')\n",
    "except ImportError:\n",
    "    pass\n",
    "from pandas.plotting import register_matplotlib_converters\n",
    "register_matplotlib_converters()\n",
    "\n",
    "from epymetheus import Universe, Trade, TradeStrategy"
   ]
  },
  {
   "cell_type": "code",
   "execution_count": 2,
   "metadata": {
    "Collapsed": "false"
   },
   "outputs": [
    {
     "data": {
      "text/html": [
       "<div>\n",
       "<style scoped>\n",
       "    .dataframe tbody tr th:only-of-type {\n",
       "        vertical-align: middle;\n",
       "    }\n",
       "\n",
       "    .dataframe tbody tr th {\n",
       "        vertical-align: top;\n",
       "    }\n",
       "\n",
       "    .dataframe thead th {\n",
       "        text-align: right;\n",
       "    }\n",
       "</style>\n",
       "<table border=\"1\" class=\"dataframe\">\n",
       "  <thead>\n",
       "    <tr style=\"text-align: right;\">\n",
       "      <th></th>\n",
       "      <th>AAPL</th>\n",
       "      <th>MSFT</th>\n",
       "      <th>AMZN</th>\n",
       "      <th>BRK-A</th>\n",
       "      <th>JPM</th>\n",
       "      <th>JNJ</th>\n",
       "      <th>WMT</th>\n",
       "      <th>BAC</th>\n",
       "      <th>PG</th>\n",
       "      <th>XOM</th>\n",
       "    </tr>\n",
       "  </thead>\n",
       "  <tbody>\n",
       "    <tr>\n",
       "      <th>2000-01-01</th>\n",
       "      <td>3.187337</td>\n",
       "      <td>37.453701</td>\n",
       "      <td>76.125000</td>\n",
       "      <td>56100</td>\n",
       "      <td>28.151169</td>\n",
       "      <td>27.276423</td>\n",
       "      <td>47.794632</td>\n",
       "      <td>12.398399</td>\n",
       "      <td>29.213911</td>\n",
       "      <td>22.168360</td>\n",
       "    </tr>\n",
       "    <tr>\n",
       "      <th>2000-01-02</th>\n",
       "      <td>3.187337</td>\n",
       "      <td>37.453701</td>\n",
       "      <td>76.125000</td>\n",
       "      <td>56100</td>\n",
       "      <td>28.151169</td>\n",
       "      <td>27.276423</td>\n",
       "      <td>47.794632</td>\n",
       "      <td>12.398399</td>\n",
       "      <td>29.213911</td>\n",
       "      <td>22.168360</td>\n",
       "    </tr>\n",
       "    <tr>\n",
       "      <th>2000-01-03</th>\n",
       "      <td>3.470226</td>\n",
       "      <td>37.393559</td>\n",
       "      <td>89.375000</td>\n",
       "      <td>54800</td>\n",
       "      <td>26.407299</td>\n",
       "      <td>26.965630</td>\n",
       "      <td>46.195686</td>\n",
       "      <td>11.966080</td>\n",
       "      <td>28.580635</td>\n",
       "      <td>21.549223</td>\n",
       "    </tr>\n",
       "    <tr>\n",
       "      <th>2000-01-04</th>\n",
       "      <td>3.177650</td>\n",
       "      <td>36.130390</td>\n",
       "      <td>81.937500</td>\n",
       "      <td>52000</td>\n",
       "      <td>25.901106</td>\n",
       "      <td>25.978415</td>\n",
       "      <td>44.467136</td>\n",
       "      <td>11.255836</td>\n",
       "      <td>28.030689</td>\n",
       "      <td>21.136469</td>\n",
       "    </tr>\n",
       "    <tr>\n",
       "      <th>2000-01-05</th>\n",
       "      <td>3.224152</td>\n",
       "      <td>36.511333</td>\n",
       "      <td>69.750000</td>\n",
       "      <td>53200</td>\n",
       "      <td>25.741232</td>\n",
       "      <td>26.252653</td>\n",
       "      <td>43.559650</td>\n",
       "      <td>11.379356</td>\n",
       "      <td>27.497412</td>\n",
       "      <td>22.288738</td>\n",
       "    </tr>\n",
       "    <tr>\n",
       "      <th>...</th>\n",
       "      <td>...</td>\n",
       "      <td>...</td>\n",
       "      <td>...</td>\n",
       "      <td>...</td>\n",
       "      <td>...</td>\n",
       "      <td>...</td>\n",
       "      <td>...</td>\n",
       "      <td>...</td>\n",
       "      <td>...</td>\n",
       "      <td>...</td>\n",
       "    </tr>\n",
       "    <tr>\n",
       "      <th>2019-12-27</th>\n",
       "      <td>289.113831</td>\n",
       "      <td>158.527008</td>\n",
       "      <td>1869.800049</td>\n",
       "      <td>338920</td>\n",
       "      <td>136.830582</td>\n",
       "      <td>144.826492</td>\n",
       "      <td>119.063171</td>\n",
       "      <td>35.125870</td>\n",
       "      <td>125.345390</td>\n",
       "      <td>68.900826</td>\n",
       "    </tr>\n",
       "    <tr>\n",
       "      <th>2019-12-28</th>\n",
       "      <td>289.113831</td>\n",
       "      <td>158.527008</td>\n",
       "      <td>1869.800049</td>\n",
       "      <td>338920</td>\n",
       "      <td>136.830582</td>\n",
       "      <td>144.826492</td>\n",
       "      <td>119.063171</td>\n",
       "      <td>35.125870</td>\n",
       "      <td>125.345390</td>\n",
       "      <td>68.900826</td>\n",
       "    </tr>\n",
       "    <tr>\n",
       "      <th>2019-12-29</th>\n",
       "      <td>289.113831</td>\n",
       "      <td>158.527008</td>\n",
       "      <td>1869.800049</td>\n",
       "      <td>338920</td>\n",
       "      <td>136.830582</td>\n",
       "      <td>144.826492</td>\n",
       "      <td>119.063171</td>\n",
       "      <td>35.125870</td>\n",
       "      <td>125.345390</td>\n",
       "      <td>68.900826</td>\n",
       "    </tr>\n",
       "    <tr>\n",
       "      <th>2019-12-30</th>\n",
       "      <td>290.829773</td>\n",
       "      <td>157.160736</td>\n",
       "      <td>1846.890015</td>\n",
       "      <td>338750</td>\n",
       "      <td>136.329041</td>\n",
       "      <td>144.379349</td>\n",
       "      <td>118.874016</td>\n",
       "      <td>34.927143</td>\n",
       "      <td>123.734962</td>\n",
       "      <td>68.496635</td>\n",
       "    </tr>\n",
       "    <tr>\n",
       "      <th>2019-12-31</th>\n",
       "      <td>292.954712</td>\n",
       "      <td>157.270432</td>\n",
       "      <td>1847.839966</td>\n",
       "      <td>339590</td>\n",
       "      <td>137.086258</td>\n",
       "      <td>144.945724</td>\n",
       "      <td>118.316475</td>\n",
       "      <td>34.996696</td>\n",
       "      <td>124.162422</td>\n",
       "      <td>68.792389</td>\n",
       "    </tr>\n",
       "  </tbody>\n",
       "</table>\n",
       "<p>7305 rows × 10 columns</p>\n",
       "</div>"
      ],
      "text/plain": [
       "                  AAPL        MSFT         AMZN   BRK-A         JPM  \\\n",
       "2000-01-01    3.187337   37.453701    76.125000   56100   28.151169   \n",
       "2000-01-02    3.187337   37.453701    76.125000   56100   28.151169   \n",
       "2000-01-03    3.470226   37.393559    89.375000   54800   26.407299   \n",
       "2000-01-04    3.177650   36.130390    81.937500   52000   25.901106   \n",
       "2000-01-05    3.224152   36.511333    69.750000   53200   25.741232   \n",
       "...                ...         ...          ...     ...         ...   \n",
       "2019-12-27  289.113831  158.527008  1869.800049  338920  136.830582   \n",
       "2019-12-28  289.113831  158.527008  1869.800049  338920  136.830582   \n",
       "2019-12-29  289.113831  158.527008  1869.800049  338920  136.830582   \n",
       "2019-12-30  290.829773  157.160736  1846.890015  338750  136.329041   \n",
       "2019-12-31  292.954712  157.270432  1847.839966  339590  137.086258   \n",
       "\n",
       "                   JNJ         WMT        BAC          PG        XOM  \n",
       "2000-01-01   27.276423   47.794632  12.398399   29.213911  22.168360  \n",
       "2000-01-02   27.276423   47.794632  12.398399   29.213911  22.168360  \n",
       "2000-01-03   26.965630   46.195686  11.966080   28.580635  21.549223  \n",
       "2000-01-04   25.978415   44.467136  11.255836   28.030689  21.136469  \n",
       "2000-01-05   26.252653   43.559650  11.379356   27.497412  22.288738  \n",
       "...                ...         ...        ...         ...        ...  \n",
       "2019-12-27  144.826492  119.063171  35.125870  125.345390  68.900826  \n",
       "2019-12-28  144.826492  119.063171  35.125870  125.345390  68.900826  \n",
       "2019-12-29  144.826492  119.063171  35.125870  125.345390  68.900826  \n",
       "2019-12-30  144.379349  118.874016  34.927143  123.734962  68.496635  \n",
       "2019-12-31  144.945724  118.316475  34.996696  124.162422  68.792389  \n",
       "\n",
       "[7305 rows x 10 columns]"
      ]
     },
     "execution_count": 2,
     "metadata": {},
     "output_type": "execute_result"
    }
   ],
   "source": [
    "from epymetheus.datasets import fetch_usstocks\n",
    "\n",
    "universe = fetch_usstocks(n_assets=10)\n",
    "universe.prices"
   ]
  },
  {
   "cell_type": "code",
   "execution_count": 3,
   "metadata": {
    "Collapsed": "false"
   },
   "outputs": [],
   "source": [
    "class SimpleLongShort(TradeStrategy):\n",
    "    \"\"\"Simple long-short strategy.\"\"\"\n",
    "    def __init__(self, percentile, bet):\n",
    "        self.percentile = percentile\n",
    "        self.bet = bet\n",
    "    \n",
    "    def logic(self, universe):\n",
    "        watch_period = DateOffset(months=1)\n",
    "        trade_period = DateOffset(months=1)\n",
    "        n_trade = int(universe.n_assets * self.percentile)\n",
    "\n",
    "        def trade_open_dates(universe, watch_period, trade_period):\n",
    "            \"\"\"Yield begin_date of trades.\"\"\"\n",
    "            open_date = universe.bars[0] + watch_period\n",
    "            while open_date + trade_period <= universe.bars[-1]:\n",
    "                yield open_date\n",
    "                open_date += trade_period\n",
    "\n",
    "        def tot_returns(open_date):\n",
    "            \"\"\"Return 1 month return of assets as Series.\"\"\"\n",
    "            b = open_date - DateOffset(days=1)\n",
    "            e = open_date - DateOffset(months=1)\n",
    "            return universe.prices.loc[e, :] / universe.prices.loc[b, :]\n",
    "\n",
    "        for open_date in trade_open_dates(universe, watch_period, trade_period):\n",
    "            shut_date = open_date + trade_period\n",
    "            r = tot_returns(open_date)\n",
    "            assets_sorted = sorted(universe.assets, key=lambda asset: r[asset])\n",
    "\n",
    "            for asset_l, asset_s in zip(assets_sorted[-n_trade:], assets_sorted[:n_trade]):\n",
    "                lot_l = +self.bet / universe.prices.at[open_date, asset_l]\n",
    "                lot_s = -self.bet / universe.prices.at[open_date, asset_s]\n",
    "                yield Trade(\n",
    "                    asset=[asset_l, asset_s], \n",
    "                    lot=[lot_l, lot_s],\n",
    "                    open_bar=open_date,\n",
    "                    shut_bar=shut_date,\n",
    "                )"
   ]
  },
  {
   "cell_type": "code",
   "execution_count": 4,
   "metadata": {
    "Collapsed": "false"
   },
   "outputs": [],
   "source": [
    "strategy = SimpleLongShort(percentile=0.2, bet=10000)"
   ]
  },
  {
   "cell_type": "code",
   "execution_count": 5,
   "metadata": {
    "Collapsed": "false"
   },
   "outputs": [
    {
     "name": "stdout",
     "output_type": "stream",
     "text": [
      "Running ... \n",
      "Generating 476 trades ({trade.open_bar}) ... Done. (Runtime : 0.44 sec)\n",
      "Executing 476 trades ... Done. (Runtime : 0.45 sec)\n",
      "Done. (Runtime : 0.92 sec)\n"
     ]
    },
    {
     "data": {
      "text/plain": [
       "<__main__.SimpleLongShort at 0x117e4a820>"
      ]
     },
     "execution_count": 5,
     "metadata": {},
     "output_type": "execute_result"
    }
   ],
   "source": [
    "strategy.run(universe)"
   ]
  },
  {
   "cell_type": "code",
   "execution_count": 6,
   "metadata": {
    "Collapsed": "false"
   },
   "outputs": [],
   "source": [
    "history = strategy.history.to_dataframe()\n",
    "# transaction = pd.DataFrame(strategy.transaction).set_index('bars')\n",
    "wealth = strategy.wealth.to_dataframe()"
   ]
  },
  {
   "cell_type": "code",
   "execution_count": 7,
   "metadata": {
    "Collapsed": "false"
   },
   "outputs": [
    {
     "data": {
      "text/html": [
       "<div>\n",
       "<style scoped>\n",
       "    .dataframe tbody tr th:only-of-type {\n",
       "        vertical-align: middle;\n",
       "    }\n",
       "\n",
       "    .dataframe tbody tr th {\n",
       "        vertical-align: top;\n",
       "    }\n",
       "\n",
       "    .dataframe thead th {\n",
       "        text-align: right;\n",
       "    }\n",
       "</style>\n",
       "<table border=\"1\" class=\"dataframe\">\n",
       "  <thead>\n",
       "    <tr style=\"text-align: right;\">\n",
       "      <th></th>\n",
       "      <th>trade_id</th>\n",
       "      <th>asset</th>\n",
       "      <th>lot</th>\n",
       "      <th>open_bar</th>\n",
       "      <th>close_bar</th>\n",
       "      <th>shut_bar</th>\n",
       "      <th>take</th>\n",
       "      <th>stop</th>\n",
       "      <th>pnl</th>\n",
       "    </tr>\n",
       "    <tr>\n",
       "      <th>order_id</th>\n",
       "      <th></th>\n",
       "      <th></th>\n",
       "      <th></th>\n",
       "      <th></th>\n",
       "      <th></th>\n",
       "      <th></th>\n",
       "      <th></th>\n",
       "      <th></th>\n",
       "      <th></th>\n",
       "    </tr>\n",
       "  </thead>\n",
       "  <tbody>\n",
       "    <tr>\n",
       "      <th>0</th>\n",
       "      <td>0</td>\n",
       "      <td>MSFT</td>\n",
       "      <td>302.822791</td>\n",
       "      <td>2000-02-01</td>\n",
       "      <td>2000-03-01</td>\n",
       "      <td>2000-03-01</td>\n",
       "      <td>None</td>\n",
       "      <td>None</td>\n",
       "      <td>-1177.900766</td>\n",
       "    </tr>\n",
       "    <tr>\n",
       "      <th>1</th>\n",
       "      <td>0</td>\n",
       "      <td>JPM</td>\n",
       "      <td>-326.730603</td>\n",
       "      <td>2000-02-01</td>\n",
       "      <td>2000-03-01</td>\n",
       "      <td>2000-03-01</td>\n",
       "      <td>None</td>\n",
       "      <td>None</td>\n",
       "      <td>208.954705</td>\n",
       "    </tr>\n",
       "    <tr>\n",
       "      <th>2</th>\n",
       "      <td>1</td>\n",
       "      <td>WMT</td>\n",
       "      <td>246.439657</td>\n",
       "      <td>2000-02-01</td>\n",
       "      <td>2000-03-01</td>\n",
       "      <td>2000-03-01</td>\n",
       "      <td>None</td>\n",
       "      <td>None</td>\n",
       "      <td>-1650.692768</td>\n",
       "    </tr>\n",
       "    <tr>\n",
       "      <th>3</th>\n",
       "      <td>1</td>\n",
       "      <td>XOM</td>\n",
       "      <td>-436.859122</td>\n",
       "      <td>2000-02-01</td>\n",
       "      <td>2000-03-01</td>\n",
       "      <td>2000-03-01</td>\n",
       "      <td>None</td>\n",
       "      <td>None</td>\n",
       "      <td>753.418836</td>\n",
       "    </tr>\n",
       "    <tr>\n",
       "      <th>4</th>\n",
       "      <td>2</td>\n",
       "      <td>BRK-A</td>\n",
       "      <td>0.223714</td>\n",
       "      <td>2000-03-01</td>\n",
       "      <td>2000-04-01</td>\n",
       "      <td>2000-04-01</td>\n",
       "      <td>None</td>\n",
       "      <td>None</td>\n",
       "      <td>2796.420582</td>\n",
       "    </tr>\n",
       "  </tbody>\n",
       "</table>\n",
       "</div>"
      ],
      "text/plain": [
       "          trade_id  asset         lot   open_bar  close_bar   shut_bar  take  \\\n",
       "order_id                                                                       \n",
       "0                0   MSFT  302.822791 2000-02-01 2000-03-01 2000-03-01  None   \n",
       "1                0    JPM -326.730603 2000-02-01 2000-03-01 2000-03-01  None   \n",
       "2                1    WMT  246.439657 2000-02-01 2000-03-01 2000-03-01  None   \n",
       "3                1    XOM -436.859122 2000-02-01 2000-03-01 2000-03-01  None   \n",
       "4                2  BRK-A    0.223714 2000-03-01 2000-04-01 2000-04-01  None   \n",
       "\n",
       "          stop          pnl  \n",
       "order_id                     \n",
       "0         None -1177.900766  \n",
       "1         None   208.954705  \n",
       "2         None -1650.692768  \n",
       "3         None   753.418836  \n",
       "4         None  2796.420582  "
      ]
     },
     "execution_count": 7,
     "metadata": {},
     "output_type": "execute_result"
    }
   ],
   "source": [
    "history.head()"
   ]
  },
  {
   "cell_type": "code",
   "execution_count": 8,
   "metadata": {
    "Collapsed": "false"
   },
   "outputs": [],
   "source": [
    "# transaction.head()"
   ]
  },
  {
   "cell_type": "code",
   "execution_count": 9,
   "metadata": {
    "Collapsed": "false"
   },
   "outputs": [
    {
     "data": {
      "text/html": [
       "<div>\n",
       "<style scoped>\n",
       "    .dataframe tbody tr th:only-of-type {\n",
       "        vertical-align: middle;\n",
       "    }\n",
       "\n",
       "    .dataframe tbody tr th {\n",
       "        vertical-align: top;\n",
       "    }\n",
       "\n",
       "    .dataframe thead th {\n",
       "        text-align: right;\n",
       "    }\n",
       "</style>\n",
       "<table border=\"1\" class=\"dataframe\">\n",
       "  <thead>\n",
       "    <tr style=\"text-align: right;\">\n",
       "      <th></th>\n",
       "      <th>wealth</th>\n",
       "    </tr>\n",
       "    <tr>\n",
       "      <th>bars</th>\n",
       "      <th></th>\n",
       "    </tr>\n",
       "  </thead>\n",
       "  <tbody>\n",
       "    <tr>\n",
       "      <th>2019-12-27</th>\n",
       "      <td>7833.952821</td>\n",
       "    </tr>\n",
       "    <tr>\n",
       "      <th>2019-12-28</th>\n",
       "      <td>7833.952821</td>\n",
       "    </tr>\n",
       "    <tr>\n",
       "      <th>2019-12-29</th>\n",
       "      <td>7833.952821</td>\n",
       "    </tr>\n",
       "    <tr>\n",
       "      <th>2019-12-30</th>\n",
       "      <td>7833.952821</td>\n",
       "    </tr>\n",
       "    <tr>\n",
       "      <th>2019-12-31</th>\n",
       "      <td>7833.952821</td>\n",
       "    </tr>\n",
       "  </tbody>\n",
       "</table>\n",
       "</div>"
      ],
      "text/plain": [
       "                 wealth\n",
       "bars                   \n",
       "2019-12-27  7833.952821\n",
       "2019-12-28  7833.952821\n",
       "2019-12-29  7833.952821\n",
       "2019-12-30  7833.952821\n",
       "2019-12-31  7833.952821"
      ]
     },
     "execution_count": 9,
     "metadata": {},
     "output_type": "execute_result"
    }
   ],
   "source": [
    "wealth.tail()"
   ]
  },
  {
   "cell_type": "code",
   "execution_count": 10,
   "metadata": {
    "Collapsed": "false"
   },
   "outputs": [
    {
     "data": {
      "image/png": "[encoded data removed]",
      "text/plain": [
       "<Figure size 1152x288 with 1 Axes>"
      ]
     },
     "metadata": {},
     "output_type": "display_data"
    }
   ],
   "source": [
    "plt.figure(figsize=(16, 4))\n",
    "plt.plot(wealth)\n",
    "plt.axhline(0, color='gray', ls='--')\n",
    "plt.title('Wealth / dollars')\n",
    "plt.show()"
   ]
  },
  {
   "cell_type": "code",
   "execution_count": 11,
   "metadata": {
    "Collapsed": "false"
   },
   "outputs": [],
   "source": [
    "# net_exposure = (transaction.cumsum() * universe.prices).sum(axis=1)\n",
    "# abs_exposure = (transaction.cumsum().applymap(abs) * universe.prices).sum(axis=1)\n",
    "\n",
    "# plt.figure(figsize=(16, 8))\n",
    "\n",
    "# plt.subplot(2, 1, 1)\n",
    "# plt.plot(net_exposure)\n",
    "# plt.axhline(0, color='gray', ls='--')\n",
    "# plt.title('Net exposure / dollars')\n",
    "\n",
    "# plt.subplot(2, 1, 2)\n",
    "# plt.plot(abs_exposure)\n",
    "# plt.axhline(0, color='gray', ls='--')\n",
    "# plt.title('Abs exposure / dollars')\n",
    "\n",
    "# plt.show()"
   ]
  },
  {
   "cell_type": "code",
   "execution_count": 12,
   "metadata": {
    "Collapsed": "false"
   },
   "outputs": [
    {
     "data": {
      "image/png": "[encoded data removed]",
      "text/plain": [
       "<Figure size 1152x288 with 2 Axes>"
      ]
     },
     "metadata": {},
     "output_type": "display_data"
    }
   ],
   "source": [
    "gains = history.pnl\n",
    "gains_agg = history.loc[:, ['trade_id', 'pnl']].groupby('trade_id').agg('sum')\n",
    "\n",
    "plt.figure(figsize=(16, 4))\n",
    "\n",
    "plt.subplot(1, 2, 1)\n",
    "plt.hist(gains_agg.values, bins=50)\n",
    "plt.axvline(0, color='red', ls='--')\n",
    "plt.title('pnl of each long-short position')\n",
    "\n",
    "plt.subplot(1, 2, 2)\n",
    "plt.hist(gains, bins=50)\n",
    "plt.axvline(0, color='red', ls='--')\n",
    "plt.title('pnl of each order')\n",
    "\n",
    "plt.show()"
   ]
  },
  {
   "cell_type": "code",
   "execution_count": null,
   "metadata": {
    "Collapsed": "false"
   },
   "outputs": [],
   "source": []
  }
 ],
 "metadata": {
  "kernelspec": {
   "display_name": "Python 3",
   "language": "python",
   "name": "python3"
  },
  "language_info": {
   "codemirror_mode": {
    "name": "ipython",
    "version": 3
   },
   "file_extension": ".py",
   "mimetype": "text/x-python",
   "name": "python",
   "nbconvert_exporter": "python",
   "pygments_lexer": "ipython3",
   "version": "3.8.2"
  }
 },
 "nbformat": 4,
 "nbformat_minor": 4
}
