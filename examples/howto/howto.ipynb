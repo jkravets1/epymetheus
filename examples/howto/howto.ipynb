{
 "cells": [
  {
   "cell_type": "markdown",
   "metadata": {
    "Collapsed": "false"
   },
   "source": [
    "# How to use"
   ]
  },
  {
   "cell_type": "markdown",
   "metadata": {
    "Collapsed": "false"
   },
   "source": [
    "[![Open In Colab](https://colab.research.google.com/assets/colab-badge.svg)](https://colab.research.google.com/github/simaki/epymetheus/blob/master/examples/howto/howto.ipynb)"
   ]
  },
  {
   "cell_type": "code",
   "execution_count": 1,
   "metadata": {
    "Collapsed": "false"
   },
   "outputs": [],
   "source": [
    "# !pip install pandas matplotlib seaborn\n",
    "# !pip install epymetheus"
   ]
  },
  {
   "cell_type": "code",
   "execution_count": 2,
   "metadata": {
    "Collapsed": "false"
   },
   "outputs": [
    {
     "name": "stderr",
     "output_type": "stream",
     "text": [
      "/usr/local/lib/python3.7/site-packages/statsmodels/tools/_testing.py:19: FutureWarning: pandas.util.testing is deprecated. Use the functions in the public API at pandas.testing instead.\n",
      "  import pandas.util.testing as tm\n"
     ]
    }
   ],
   "source": [
    "import pandas as pd\n",
    "from pandas.tseries.offsets import DateOffset\n",
    "import matplotlib.pyplot as plt\n",
    "import seaborn\n",
    "from pandas.plotting import register_matplotlib_converters\n",
    "\n",
    "register_matplotlib_converters()\n",
    "seaborn.set_style('ticks')"
   ]
  },
  {
   "cell_type": "markdown",
   "metadata": {
    "Collapsed": "false"
   },
   "source": [
    "Let's construct your own strategy by subclassing `TradeStrategy`."
   ]
  },
  {
   "cell_type": "code",
   "execution_count": 3,
   "metadata": {
    "Collapsed": "false"
   },
   "outputs": [],
   "source": [
    "from epymetheus import Trade, TradeStrategy\n",
    "\n",
    "class SimpleTrendFollower(TradeStrategy):\n",
    "    \"\"\"\n",
    "    A simple trend-following strategy.\n",
    "    Buys stocks for a month with the highest percentile of one month returns.\n",
    "\n",
    "    Parameters\n",
    "    ----------\n",
    "    - percentile : float\n",
    "        The threshold to buy or sell.\n",
    "        E.g. If 0.1, buy stocks with returns of highest 10%.\n",
    "    \"\"\"\n",
    "\n",
    "    @staticmethod\n",
    "    def sorted_assets(universe, open_date):\n",
    "        \"\"\"\n",
    "        Return list of asset sorted according to one-month returns.\n",
    "        Sort is ascending (poor-return first).\n",
    "\n",
    "        Returns\n",
    "        -------\n",
    "        list\n",
    "        \"\"\"\n",
    "        onemonth_returns = universe.prices.loc[open_date] \\\n",
    "            / universe.prices.loc[open_date - DateOffset(months=1)]\n",
    "        return list(onemonth_returns.sort_values().index)\n",
    "\n",
    "    def logic(self, universe, percentile, bet_price, atake, acut):\n",
    "        n_trade = int(universe.n_assets * percentile)\n",
    "        date_range = pd.date_range(universe.bars[0], universe.bars[-1], freq='BM')\n",
    "        hold_period = DateOffset(months=3)\n",
    "\n",
    "        for open_date in date_range[1:]:\n",
    "            assets = self.sorted_assets(universe, open_date)\n",
    "            for asset in assets[:n_trade]:\n",
    "                lot = bet_price / universe.prices.at[open_date, asset]\n",
    "                yield Trade(\n",
    "                    asset=asset, lot=lot,\n",
    "                    open_bar=open_date,\n",
    "                    shut_bar=open_date + hold_period,\n",
    "                    atake=atake, acut=acut,\n",
    "                )"
   ]
  },
  {
   "cell_type": "code",
   "execution_count": 4,
   "metadata": {
    "Collapsed": "false"
   },
   "outputs": [],
   "source": [
    "strategy = SimpleTrendFollower(\n",
    "    percentile=0.2, bet_price=10000, atake=10000, acut=-1000,\n",
    ")"
   ]
  },
  {
   "cell_type": "markdown",
   "metadata": {
    "Collapsed": "false"
   },
   "source": [
    "The strategy can be readily applied to any `Universe`."
   ]
  },
  {
   "cell_type": "code",
   "execution_count": 5,
   "metadata": {
    "Collapsed": "false"
   },
   "outputs": [
    {
     "name": "stdout",
     "output_type": "stream",
     "text": [
      "Fetching AAPL (1/10) ...\n",
      "Fetching MSFT (2/10) ...\n",
      "Fetching AMZN (3/10) ...\n",
      "Fetching BRK-A (4/10) ...\n",
      "Fetching JPM (5/10) ...\n",
      "Fetching JNJ (6/10) ...\n",
      "Fetching WMT (7/10) ...\n",
      "Fetching BAC (8/10) ...\n",
      "Fetching PG (9/10) ...\n",
      "Fetching XOM (10/10) ...\n",
      "Done.\n"
     ]
    },
    {
     "data": {
      "text/html": [
       "<div>\n",
       "<style scoped>\n",
       "    .dataframe tbody tr th:only-of-type {\n",
       "        vertical-align: middle;\n",
       "    }\n",
       "\n",
       "    .dataframe tbody tr th {\n",
       "        vertical-align: top;\n",
       "    }\n",
       "\n",
       "    .dataframe thead th {\n",
       "        text-align: right;\n",
       "    }\n",
       "</style>\n",
       "<table border=\"1\" class=\"dataframe\">\n",
       "  <thead>\n",
       "    <tr style=\"text-align: right;\">\n",
       "      <th></th>\n",
       "      <th>AAPL</th>\n",
       "      <th>MSFT</th>\n",
       "      <th>AMZN</th>\n",
       "      <th>BRK-A</th>\n",
       "      <th>JPM</th>\n",
       "      <th>JNJ</th>\n",
       "      <th>WMT</th>\n",
       "      <th>BAC</th>\n",
       "      <th>PG</th>\n",
       "      <th>XOM</th>\n",
       "    </tr>\n",
       "  </thead>\n",
       "  <tbody>\n",
       "    <tr>\n",
       "      <th>2000-01-01</th>\n",
       "      <td>3.187337</td>\n",
       "      <td>37.556007</td>\n",
       "      <td>76.125000</td>\n",
       "      <td>56100.0</td>\n",
       "      <td>28.443703</td>\n",
       "      <td>27.450361</td>\n",
       "      <td>47.997063</td>\n",
       "      <td>12.477510</td>\n",
       "      <td>29.213900</td>\n",
       "      <td>22.486614</td>\n",
       "    </tr>\n",
       "    <tr>\n",
       "      <th>2000-01-02</th>\n",
       "      <td>3.187337</td>\n",
       "      <td>37.556007</td>\n",
       "      <td>76.125000</td>\n",
       "      <td>56100.0</td>\n",
       "      <td>28.443703</td>\n",
       "      <td>27.450361</td>\n",
       "      <td>47.997063</td>\n",
       "      <td>12.477510</td>\n",
       "      <td>29.213900</td>\n",
       "      <td>22.486614</td>\n",
       "    </tr>\n",
       "    <tr>\n",
       "      <th>2000-01-03</th>\n",
       "      <td>3.470226</td>\n",
       "      <td>37.495686</td>\n",
       "      <td>89.375000</td>\n",
       "      <td>54800.0</td>\n",
       "      <td>26.681709</td>\n",
       "      <td>27.137581</td>\n",
       "      <td>46.391357</td>\n",
       "      <td>12.042428</td>\n",
       "      <td>28.580601</td>\n",
       "      <td>21.858601</td>\n",
       "    </tr>\n",
       "    <tr>\n",
       "      <th>2000-01-04</th>\n",
       "      <td>3.177650</td>\n",
       "      <td>36.229057</td>\n",
       "      <td>81.937500</td>\n",
       "      <td>52000.0</td>\n",
       "      <td>26.170267</td>\n",
       "      <td>26.144068</td>\n",
       "      <td>44.655510</td>\n",
       "      <td>11.327658</td>\n",
       "      <td>28.030664</td>\n",
       "      <td>21.439911</td>\n",
       "    </tr>\n",
       "    <tr>\n",
       "      <th>2000-01-05</th>\n",
       "      <td>3.224152</td>\n",
       "      <td>36.611080</td>\n",
       "      <td>69.750000</td>\n",
       "      <td>53200.0</td>\n",
       "      <td>26.008717</td>\n",
       "      <td>26.420055</td>\n",
       "      <td>43.744167</td>\n",
       "      <td>11.451962</td>\n",
       "      <td>27.497383</td>\n",
       "      <td>22.608728</td>\n",
       "    </tr>\n",
       "    <tr>\n",
       "      <th>...</th>\n",
       "      <td>...</td>\n",
       "      <td>...</td>\n",
       "      <td>...</td>\n",
       "      <td>...</td>\n",
       "      <td>...</td>\n",
       "      <td>...</td>\n",
       "      <td>...</td>\n",
       "      <td>...</td>\n",
       "      <td>...</td>\n",
       "      <td>...</td>\n",
       "    </tr>\n",
       "    <tr>\n",
       "      <th>2018-12-28</th>\n",
       "      <td>153.552979</td>\n",
       "      <td>98.927246</td>\n",
       "      <td>1478.020020</td>\n",
       "      <td>302600.0</td>\n",
       "      <td>93.299355</td>\n",
       "      <td>123.780724</td>\n",
       "      <td>90.301170</td>\n",
       "      <td>23.847462</td>\n",
       "      <td>88.162010</td>\n",
       "      <td>65.054237</td>\n",
       "    </tr>\n",
       "    <tr>\n",
       "      <th>2018-12-29</th>\n",
       "      <td>153.552979</td>\n",
       "      <td>98.927246</td>\n",
       "      <td>1478.020020</td>\n",
       "      <td>302600.0</td>\n",
       "      <td>93.299355</td>\n",
       "      <td>123.780724</td>\n",
       "      <td>90.301170</td>\n",
       "      <td>23.847462</td>\n",
       "      <td>88.162010</td>\n",
       "      <td>65.054237</td>\n",
       "    </tr>\n",
       "    <tr>\n",
       "      <th>2018-12-30</th>\n",
       "      <td>153.552979</td>\n",
       "      <td>98.927246</td>\n",
       "      <td>1478.020020</td>\n",
       "      <td>302600.0</td>\n",
       "      <td>93.299355</td>\n",
       "      <td>123.780724</td>\n",
       "      <td>90.301170</td>\n",
       "      <td>23.847462</td>\n",
       "      <td>88.162010</td>\n",
       "      <td>65.054237</td>\n",
       "    </tr>\n",
       "    <tr>\n",
       "      <th>2018-12-31</th>\n",
       "      <td>155.037109</td>\n",
       "      <td>100.090057</td>\n",
       "      <td>1501.969971</td>\n",
       "      <td>306000.0</td>\n",
       "      <td>94.060555</td>\n",
       "      <td>125.511925</td>\n",
       "      <td>91.300919</td>\n",
       "      <td>24.091898</td>\n",
       "      <td>88.877502</td>\n",
       "      <td>65.073334</td>\n",
       "    </tr>\n",
       "    <tr>\n",
       "      <th>2019-01-01</th>\n",
       "      <td>155.037109</td>\n",
       "      <td>100.090057</td>\n",
       "      <td>1501.969971</td>\n",
       "      <td>306000.0</td>\n",
       "      <td>94.060555</td>\n",
       "      <td>125.511925</td>\n",
       "      <td>91.300919</td>\n",
       "      <td>24.091898</td>\n",
       "      <td>88.877502</td>\n",
       "      <td>65.073334</td>\n",
       "    </tr>\n",
       "  </tbody>\n",
       "</table>\n",
       "<p>6941 rows × 10 columns</p>\n",
       "</div>"
      ],
      "text/plain": [
       "                  AAPL        MSFT         AMZN     BRK-A        JPM  \\\n",
       "2000-01-01    3.187337   37.556007    76.125000   56100.0  28.443703   \n",
       "2000-01-02    3.187337   37.556007    76.125000   56100.0  28.443703   \n",
       "2000-01-03    3.470226   37.495686    89.375000   54800.0  26.681709   \n",
       "2000-01-04    3.177650   36.229057    81.937500   52000.0  26.170267   \n",
       "2000-01-05    3.224152   36.611080    69.750000   53200.0  26.008717   \n",
       "...                ...         ...          ...       ...        ...   \n",
       "2018-12-28  153.552979   98.927246  1478.020020  302600.0  93.299355   \n",
       "2018-12-29  153.552979   98.927246  1478.020020  302600.0  93.299355   \n",
       "2018-12-30  153.552979   98.927246  1478.020020  302600.0  93.299355   \n",
       "2018-12-31  155.037109  100.090057  1501.969971  306000.0  94.060555   \n",
       "2019-01-01  155.037109  100.090057  1501.969971  306000.0  94.060555   \n",
       "\n",
       "                   JNJ        WMT        BAC         PG        XOM  \n",
       "2000-01-01   27.450361  47.997063  12.477510  29.213900  22.486614  \n",
       "2000-01-02   27.450361  47.997063  12.477510  29.213900  22.486614  \n",
       "2000-01-03   27.137581  46.391357  12.042428  28.580601  21.858601  \n",
       "2000-01-04   26.144068  44.655510  11.327658  28.030664  21.439911  \n",
       "2000-01-05   26.420055  43.744167  11.451962  27.497383  22.608728  \n",
       "...                ...        ...        ...        ...        ...  \n",
       "2018-12-28  123.780724  90.301170  23.847462  88.162010  65.054237  \n",
       "2018-12-29  123.780724  90.301170  23.847462  88.162010  65.054237  \n",
       "2018-12-30  123.780724  90.301170  23.847462  88.162010  65.054237  \n",
       "2018-12-31  125.511925  91.300919  24.091898  88.877502  65.073334  \n",
       "2019-01-01  125.511925  91.300919  24.091898  88.877502  65.073334  \n",
       "\n",
       "[6941 rows x 10 columns]"
      ]
     },
     "execution_count": 5,
     "metadata": {},
     "output_type": "execute_result"
    }
   ],
   "source": [
    "from epymetheus.datasets import fetch_usstocks\n",
    "\n",
    "universe = fetch_usstocks(n_assets=10)\n",
    "universe.prices"
   ]
  },
  {
   "cell_type": "code",
   "execution_count": 6,
   "metadata": {
    "Collapsed": "false"
   },
   "outputs": [
    {
     "name": "stdout",
     "output_type": "stream",
     "text": [
      "Running ... \n",
      "Generating 454 trades  ... Done. (Runtime : 0.43 sec)\n",
      "Evaluating history     ... Done. (Runtime : 2.14 sec)\n",
      "Evaluating transaction ... Done. (Runtime : 0.59 sec)\n",
      "Evaluating wealth      ... Done. (Runtime : 0.52 sec)\n",
      "Done. (Runtime : 3.67 sec)\n"
     ]
    },
    {
     "data": {
      "text/plain": [
       "<__main__.SimpleTrendFollower at 0x119d92e50>"
      ]
     },
     "execution_count": 6,
     "metadata": {},
     "output_type": "execute_result"
    }
   ],
   "source": [
    "strategy.run(universe)"
   ]
  },
  {
   "cell_type": "markdown",
   "metadata": {
    "Collapsed": "false"
   },
   "source": [
    "Now the result is stored as the attributes of `strategy`.\n",
    "\n",
    "You can plot the wealth right away:"
   ]
  },
  {
   "cell_type": "code",
   "execution_count": 7,
   "metadata": {
    "Collapsed": "false"
   },
   "outputs": [
    {
     "data": {
      "image/png": "[encoded data removed]",
      "text/plain": [
       "<Figure size 1152x288 with 1 Axes>"
      ]
     },
     "metadata": {},
     "output_type": "display_data"
    }
   ],
   "source": [
    "df_wealth = pd.DataFrame(strategy.wealth).set_index('bars')\n",
    "\n",
    "plt.figure(figsize=(16, 4))\n",
    "plt.plot(df_wealth, linewidth=1)\n",
    "plt.title('Wealth / USD')\n",
    "plt.show()"
   ]
  },
  {
   "cell_type": "markdown",
   "metadata": {
    "Collapsed": "false"
   },
   "source": [
    "You can also inspect the exposure as:"
   ]
  },
  {
   "cell_type": "code",
   "execution_count": 8,
   "metadata": {
    "Collapsed": "false"
   },
   "outputs": [
    {
     "data": {
      "image/png": "[encoded data removed]",
      "text/plain": [
       "<Figure size 1152x288 with 1 Axes>"
      ]
     },
     "metadata": {},
     "output_type": "display_data"
    }
   ],
   "source": [
    "df_exposure = pd.Series(strategy.net_exposure, index=strategy.universe.bars)\n",
    "\n",
    "plt.figure(figsize=(16, 4))\n",
    "plt.plot(df_exposure)\n",
    "plt.axhline(0, ls='--', color='gray')\n",
    "plt.title('Net exposure')\n",
    "plt.show()"
   ]
  },
  {
   "cell_type": "markdown",
   "metadata": {
    "Collapsed": "false"
   },
   "source": [
    "Profit-loss distribution can be accessed by:"
   ]
  },
  {
   "cell_type": "code",
   "execution_count": 9,
   "metadata": {
    "Collapsed": "false"
   },
   "outputs": [
    {
     "data": {
      "image/png": "[encoded data removed]",
      "text/plain": [
       "<Figure size 1152x288 with 1 Axes>"
      ]
     },
     "metadata": {},
     "output_type": "display_data"
    }
   ],
   "source": [
    "plt.figure(figsize=(16, 4))\n",
    "plt.hist(strategy.history.gains, bins=100)\n",
    "plt.axvline(0, ls='--', color='red')\n",
    "plt.title('Gains')\n",
    "plt.show()"
   ]
  },
  {
   "cell_type": "markdown",
   "metadata": {
    "Collapsed": "false"
   },
   "source": [
    "Detailed trade history can be viewed as:"
   ]
  },
  {
   "cell_type": "code",
   "execution_count": 10,
   "metadata": {
    "Collapsed": "false"
   },
   "outputs": [
    {
     "data": {
      "text/html": [
       "<div>\n",
       "<style scoped>\n",
       "    .dataframe tbody tr th:only-of-type {\n",
       "        vertical-align: middle;\n",
       "    }\n",
       "\n",
       "    .dataframe tbody tr th {\n",
       "        vertical-align: top;\n",
       "    }\n",
       "\n",
       "    .dataframe thead th {\n",
       "        text-align: right;\n",
       "    }\n",
       "</style>\n",
       "<table border=\"1\" class=\"dataframe\">\n",
       "  <thead>\n",
       "    <tr style=\"text-align: right;\">\n",
       "      <th></th>\n",
       "      <th>trade_index</th>\n",
       "      <th>order_index</th>\n",
       "      <th>assets</th>\n",
       "      <th>lots</th>\n",
       "      <th>open_bars</th>\n",
       "      <th>shut_bars</th>\n",
       "      <th>atakes</th>\n",
       "      <th>acuts</th>\n",
       "      <th>close_bars</th>\n",
       "      <th>durations</th>\n",
       "      <th>open_prices</th>\n",
       "      <th>close_prices</th>\n",
       "      <th>gains</th>\n",
       "    </tr>\n",
       "  </thead>\n",
       "  <tbody>\n",
       "    <tr>\n",
       "      <th>0</th>\n",
       "      <td>0</td>\n",
       "      <td>0</td>\n",
       "      <td>BRK-A</td>\n",
       "      <td>0.227273</td>\n",
       "      <td>2000-02-29</td>\n",
       "      <td>2000-05-29</td>\n",
       "      <td>10000</td>\n",
       "      <td>-1000</td>\n",
       "      <td>2000-05-29</td>\n",
       "      <td>90 days</td>\n",
       "      <td>44000.000000</td>\n",
       "      <td>57400.000000</td>\n",
       "      <td>3045.454545</td>\n",
       "    </tr>\n",
       "    <tr>\n",
       "      <th>1</th>\n",
       "      <td>1</td>\n",
       "      <td>1</td>\n",
       "      <td>JNJ</td>\n",
       "      <td>468.423947</td>\n",
       "      <td>2000-02-29</td>\n",
       "      <td>2000-05-29</td>\n",
       "      <td>10000</td>\n",
       "      <td>-1000</td>\n",
       "      <td>2000-05-29</td>\n",
       "      <td>90 days</td>\n",
       "      <td>21.348183</td>\n",
       "      <td>26.319628</td>\n",
       "      <td>2328.743930</td>\n",
       "    </tr>\n",
       "    <tr>\n",
       "      <th>2</th>\n",
       "      <td>2</td>\n",
       "      <td>2</td>\n",
       "      <td>PG</td>\n",
       "      <td>657.238799</td>\n",
       "      <td>2000-03-31</td>\n",
       "      <td>2000-06-30</td>\n",
       "      <td>10000</td>\n",
       "      <td>-1000</td>\n",
       "      <td>2000-06-30</td>\n",
       "      <td>91 days</td>\n",
       "      <td>15.215170</td>\n",
       "      <td>15.357617</td>\n",
       "      <td>93.622005</td>\n",
       "    </tr>\n",
       "    <tr>\n",
       "      <th>3</th>\n",
       "      <td>3</td>\n",
       "      <td>3</td>\n",
       "      <td>AMZN</td>\n",
       "      <td>149.253731</td>\n",
       "      <td>2000-03-31</td>\n",
       "      <td>2000-06-30</td>\n",
       "      <td>10000</td>\n",
       "      <td>-1000</td>\n",
       "      <td>2000-04-12</td>\n",
       "      <td>12 days</td>\n",
       "      <td>67.000000</td>\n",
       "      <td>56.375000</td>\n",
       "      <td>-1585.820896</td>\n",
       "    </tr>\n",
       "    <tr>\n",
       "      <th>4</th>\n",
       "      <td>4</td>\n",
       "      <td>4</td>\n",
       "      <td>MSFT</td>\n",
       "      <td>445.690370</td>\n",
       "      <td>2000-04-28</td>\n",
       "      <td>2000-07-28</td>\n",
       "      <td>10000</td>\n",
       "      <td>-1000</td>\n",
       "      <td>2000-05-25</td>\n",
       "      <td>27 days</td>\n",
       "      <td>22.437101</td>\n",
       "      <td>19.783245</td>\n",
       "      <td>-1182.798185</td>\n",
       "    </tr>\n",
       "    <tr>\n",
       "      <th>...</th>\n",
       "      <td>...</td>\n",
       "      <td>...</td>\n",
       "      <td>...</td>\n",
       "      <td>...</td>\n",
       "      <td>...</td>\n",
       "      <td>...</td>\n",
       "      <td>...</td>\n",
       "      <td>...</td>\n",
       "      <td>...</td>\n",
       "      <td>...</td>\n",
       "      <td>...</td>\n",
       "      <td>...</td>\n",
       "      <td>...</td>\n",
       "    </tr>\n",
       "    <tr>\n",
       "      <th>449</th>\n",
       "      <td>449</td>\n",
       "      <td>449</td>\n",
       "      <td>BAC</td>\n",
       "      <td>373.987694</td>\n",
       "      <td>2018-10-31</td>\n",
       "      <td>2019-01-01</td>\n",
       "      <td>10000</td>\n",
       "      <td>-1000</td>\n",
       "      <td>2019-01-01</td>\n",
       "      <td>62 days</td>\n",
       "      <td>26.738848</td>\n",
       "      <td>24.091898</td>\n",
       "      <td>-989.926640</td>\n",
       "    </tr>\n",
       "    <tr>\n",
       "      <th>450</th>\n",
       "      <td>450</td>\n",
       "      <td>450</td>\n",
       "      <td>AAPL</td>\n",
       "      <td>56.973568</td>\n",
       "      <td>2018-11-30</td>\n",
       "      <td>2019-01-01</td>\n",
       "      <td>10000</td>\n",
       "      <td>-1000</td>\n",
       "      <td>2019-01-01</td>\n",
       "      <td>32 days</td>\n",
       "      <td>175.519989</td>\n",
       "      <td>155.037109</td>\n",
       "      <td>-1166.982732</td>\n",
       "    </tr>\n",
       "    <tr>\n",
       "      <th>451</th>\n",
       "      <td>451</td>\n",
       "      <td>451</td>\n",
       "      <td>WMT</td>\n",
       "      <td>105.050700</td>\n",
       "      <td>2018-11-30</td>\n",
       "      <td>2019-01-01</td>\n",
       "      <td>10000</td>\n",
       "      <td>-1000</td>\n",
       "      <td>2019-01-01</td>\n",
       "      <td>32 days</td>\n",
       "      <td>95.192131</td>\n",
       "      <td>91.300919</td>\n",
       "      <td>-408.774593</td>\n",
       "    </tr>\n",
       "    <tr>\n",
       "      <th>452</th>\n",
       "      <td>452</td>\n",
       "      <td>452</td>\n",
       "      <td>XOM</td>\n",
       "      <td>153.672778</td>\n",
       "      <td>2018-12-31</td>\n",
       "      <td>2019-01-01</td>\n",
       "      <td>10000</td>\n",
       "      <td>-1000</td>\n",
       "      <td>2019-01-01</td>\n",
       "      <td>1 days</td>\n",
       "      <td>65.073334</td>\n",
       "      <td>65.073334</td>\n",
       "      <td>0.000000</td>\n",
       "    </tr>\n",
       "    <tr>\n",
       "      <th>453</th>\n",
       "      <td>453</td>\n",
       "      <td>453</td>\n",
       "      <td>BAC</td>\n",
       "      <td>415.077302</td>\n",
       "      <td>2018-12-31</td>\n",
       "      <td>2019-01-01</td>\n",
       "      <td>10000</td>\n",
       "      <td>-1000</td>\n",
       "      <td>2019-01-01</td>\n",
       "      <td>1 days</td>\n",
       "      <td>24.091898</td>\n",
       "      <td>24.091898</td>\n",
       "      <td>0.000000</td>\n",
       "    </tr>\n",
       "  </tbody>\n",
       "</table>\n",
       "<p>454 rows × 13 columns</p>\n",
       "</div>"
      ],
      "text/plain": [
       "     trade_index  order_index assets        lots  open_bars  shut_bars  \\\n",
       "0              0            0  BRK-A    0.227273 2000-02-29 2000-05-29   \n",
       "1              1            1    JNJ  468.423947 2000-02-29 2000-05-29   \n",
       "2              2            2     PG  657.238799 2000-03-31 2000-06-30   \n",
       "3              3            3   AMZN  149.253731 2000-03-31 2000-06-30   \n",
       "4              4            4   MSFT  445.690370 2000-04-28 2000-07-28   \n",
       "..           ...          ...    ...         ...        ...        ...   \n",
       "449          449          449    BAC  373.987694 2018-10-31 2019-01-01   \n",
       "450          450          450   AAPL   56.973568 2018-11-30 2019-01-01   \n",
       "451          451          451    WMT  105.050700 2018-11-30 2019-01-01   \n",
       "452          452          452    XOM  153.672778 2018-12-31 2019-01-01   \n",
       "453          453          453    BAC  415.077302 2018-12-31 2019-01-01   \n",
       "\n",
       "     atakes  acuts close_bars durations   open_prices  close_prices  \\\n",
       "0     10000  -1000 2000-05-29   90 days  44000.000000  57400.000000   \n",
       "1     10000  -1000 2000-05-29   90 days     21.348183     26.319628   \n",
       "2     10000  -1000 2000-06-30   91 days     15.215170     15.357617   \n",
       "3     10000  -1000 2000-04-12   12 days     67.000000     56.375000   \n",
       "4     10000  -1000 2000-05-25   27 days     22.437101     19.783245   \n",
       "..      ...    ...        ...       ...           ...           ...   \n",
       "449   10000  -1000 2019-01-01   62 days     26.738848     24.091898   \n",
       "450   10000  -1000 2019-01-01   32 days    175.519989    155.037109   \n",
       "451   10000  -1000 2019-01-01   32 days     95.192131     91.300919   \n",
       "452   10000  -1000 2019-01-01    1 days     65.073334     65.073334   \n",
       "453   10000  -1000 2019-01-01    1 days     24.091898     24.091898   \n",
       "\n",
       "           gains  \n",
       "0    3045.454545  \n",
       "1    2328.743930  \n",
       "2      93.622005  \n",
       "3   -1585.820896  \n",
       "4   -1182.798185  \n",
       "..           ...  \n",
       "449  -989.926640  \n",
       "450 -1166.982732  \n",
       "451  -408.774593  \n",
       "452     0.000000  \n",
       "453     0.000000  \n",
       "\n",
       "[454 rows x 13 columns]"
      ]
     },
     "execution_count": 10,
     "metadata": {},
     "output_type": "execute_result"
    }
   ],
   "source": [
    "pd.DataFrame(strategy.history)"
   ]
  }
 ],
 "metadata": {
  "kernelspec": {
   "display_name": "Python 3",
   "language": "python",
   "name": "python3"
  },
  "language_info": {
   "codemirror_mode": {
    "name": "ipython",
    "version": 3
   },
   "file_extension": ".py",
   "mimetype": "text/x-python",
   "name": "python",
   "nbconvert_exporter": "python",
   "pygments_lexer": "ipython3",
   "version": "3.7.6"
  }
 },
 "nbformat": 4,
 "nbformat_minor": 4
}
